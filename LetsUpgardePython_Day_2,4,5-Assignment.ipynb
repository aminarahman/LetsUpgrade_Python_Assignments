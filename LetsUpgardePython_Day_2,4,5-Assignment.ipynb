{
 "cells": [
  {
   "cell_type": "markdown",
   "metadata": {},
   "source": [
    "# DAY 2 - ASSIGNMENTS\n",
    "> 1. Try 5 different functions of string in python\n",
    "\n",
    "> 2. Try 5 different functions of lists in python\n",
    "\n",
    "> 3. Try 5 different functions of dictionary in python"
   ]
  },
  {
   "cell_type": "markdown",
   "metadata": {},
   "source": [
    "### 1. Try 5 different functions of string in python"
   ]
  },
  {
   "cell_type": "code",
   "execution_count": 23,
   "metadata": {},
   "outputs": [],
   "source": [
    "sentence = 'Lions live in jungle and not in ponds'"
   ]
  },
  {
   "cell_type": "code",
   "execution_count": 24,
   "metadata": {},
   "outputs": [
    {
     "name": "stdout",
     "output_type": "stream",
     "text": [
      "1.  b'Lions live in jungle and not in ponds'\n",
      "2.  True\n",
      "3.                                                Lions live in jungle and not in ponds                                               \n",
      "4.  False\n",
      "5.  Tigers live in jungle and not in ponds\n"
     ]
    }
   ],
   "source": [
    "print('1. ',sentence.encode())\n",
    "print('2. ',sentence.endswith('s'))\n",
    "print('3. ',sentence.center(130))\n",
    "print('4. ',sentence.isupper())\n",
    "print('5. ',sentence.replace('Lions','Tigers'))"
   ]
  },
  {
   "cell_type": "markdown",
   "metadata": {},
   "source": [
    "### 2. Try 5 different functions of lists in python"
   ]
  },
  {
   "cell_type": "code",
   "execution_count": 20,
   "metadata": {},
   "outputs": [],
   "source": [
    "collection = [['Dosa','Idli','Vada'],'Baking',12,True,'Chris Pine',90.90]"
   ]
  },
  {
   "cell_type": "code",
   "execution_count": 21,
   "metadata": {},
   "outputs": [
    {
     "name": "stdout",
     "output_type": "stream",
     "text": [
      "1.  [['Dosa', 'Idli', 'Vada'], 'Baking', 12, True, 'Chris Pine', 90.9, 'Water', 'Bottle'] \n",
      "\n",
      "2.  [['Dosa', 'Sambhar', 'Idli', 'Vada'], 'Baking', 12, True, 'Chris Pine', 90.9, 'Water', 'Bottle'] \n",
      "\n",
      "3.  [['Vada', 'Sambhar', 'Idli', 'Dosa'], 'Baking', 12, True, 'Chris Pine', 90.9, 'Water', 'Bottle'] \n",
      "\n",
      "4.  [['Vada', 'Sambhar', 'Idli', 'Dosa'], 'Baking', 12, True, 'Chris Pine', 90.9, 'Water', 'Bottle'] \n",
      "\n",
      "5.  [['Vada', 'Sambhar', 'Idli', 'Dosa'], 'Baking', 12, True, 'Chris Pine', 90.9, 'Water'] \n",
      "\n"
     ]
    }
   ],
   "source": [
    "collection.extend(['Water','Bottle'])\n",
    "print('1. ',collection,'\\n')\n",
    "\n",
    "collection[0].insert(1,'Sambhar')\n",
    "print('2. ',collection,'\\n')\n",
    "\n",
    "collection[0].sort(reverse = True)\n",
    "print('3. ',collection,'\\n')\n",
    "\n",
    "coll = collection.copy()\n",
    "print('4. ',coll,'\\n')\n",
    "\n",
    "coll.pop()\n",
    "print('5. ',coll,'\\n')"
   ]
  },
  {
   "cell_type": "markdown",
   "metadata": {},
   "source": [
    "### 3. Try 5 different functions of dictionaries in python"
   ]
  },
  {
   "cell_type": "code",
   "execution_count": 9,
   "metadata": {},
   "outputs": [
    {
     "data": {
      "text/plain": [
       "{'Fruit': 'Apple', 'Sport': 'Cricket', 'Games': 'Pubg'}"
      ]
     },
     "execution_count": 9,
     "metadata": {},
     "output_type": "execute_result"
    }
   ],
   "source": [
    "stuff={'Fruit':'Apple','Sport':'Cricket','Games':'Pubg'}\n",
    "stuff"
   ]
  },
  {
   "cell_type": "code",
   "execution_count": 12,
   "metadata": {},
   "outputs": [
    {
     "name": "stdout",
     "output_type": "stream",
     "text": [
      "1.  dict_keys(['Fruit', 'Sport', 'Games'])\n",
      "2.  dict_values(['Apple', 'Cricket', 'Pubg'])\n",
      "3.  dict_items([('Fruit', 'Apple'), ('Sport', 'Cricket'), ('Games', 'Pubg')])\n",
      "4.  Pubg\n",
      "5.  ['Fruit', 'Games', 'Sport']\n"
     ]
    }
   ],
   "source": [
    "print('1. ',stuff.keys())\n",
    "print('2. ',stuff.values())\n",
    "print('3. ',stuff.items())\n",
    "print('4. ',stuff.get('Games'))\n",
    "print('5. ',sorted(stuff))"
   ]
  },
  {
   "cell_type": "markdown",
   "metadata": {},
   "source": [
    "# DAY 4 - ASSIGNMENTS\n",
    "> 1. Use if-elif-else to write a program in python for report card\n",
    "\n",
    "> 2. Use For Loop to Print Prime Numbers in between 1 to 1000\n",
    "\n",
    "> 3. Write a program for printing the tables from 1,10 using Nested For Loop\n",
    "\n",
    "> 4. Write a program to Print X Prime Numbers using While Loop starting from 0, and take the INput of X from the user\n"
   ]
  },
  {
   "cell_type": "code",
   "execution_count": 32,
   "metadata": {},
   "outputs": [
    {
     "name": "stdout",
     "output_type": "stream",
     "text": [
      "You grade is : B+\n"
     ]
    }
   ],
   "source": [
    "# Question 1\n",
    "marks = 71\n",
    "if marks >= 91:\n",
    "    grade = 'A+'\n",
    "elif marks >= 81:\n",
    "    grade = 'A'\n",
    "elif marks >= 71:\n",
    "    grade = 'B+'\n",
    "elif marks >= 61:\n",
    "    grade = 'B'\n",
    "elif marks >= 51:\n",
    "    grade = 'C+'\n",
    "elif marks >= 41:\n",
    "    grade = 'C'\n",
    "else:\n",
    "    grade = 'F'\n",
    "print('You grade is :',grade)"
   ]
  },
  {
   "cell_type": "code",
   "execution_count": 51,
   "metadata": {},
   "outputs": [
    {
     "name": "stdout",
     "output_type": "stream",
     "text": [
      " 2\n",
      " 3\n",
      " 5\n",
      " 7\n",
      " 11\n",
      " 13\n",
      " 17\n",
      " 19\n",
      " 23\n",
      " 29\n",
      " 31\n",
      " 37\n",
      " 41\n",
      " 43\n",
      " 47\n",
      " 53\n",
      " 59\n",
      " 61\n",
      " 67\n",
      " 71\n",
      " 73\n",
      " 79\n",
      " 83\n",
      " 89\n",
      " 97\n",
      " 101\n",
      " 103\n",
      " 107\n",
      " 109\n",
      " 113\n",
      " 127\n",
      " 131\n",
      " 137\n",
      " 139\n",
      " 149\n",
      " 151\n",
      " 157\n",
      " 163\n",
      " 167\n",
      " 173\n",
      " 179\n",
      " 181\n",
      " 191\n",
      " 193\n",
      " 197\n",
      " 199\n",
      " 211\n",
      " 223\n",
      " 227\n",
      " 229\n",
      " 233\n",
      " 239\n",
      " 241\n",
      " 251\n",
      " 257\n",
      " 263\n",
      " 269\n",
      " 271\n",
      " 277\n",
      " 281\n",
      " 283\n",
      " 293\n",
      " 307\n",
      " 311\n",
      " 313\n",
      " 317\n",
      " 331\n",
      " 337\n",
      " 347\n",
      " 349\n",
      " 353\n",
      " 359\n",
      " 367\n",
      " 373\n",
      " 379\n",
      " 383\n",
      " 389\n",
      " 397\n",
      " 401\n",
      " 409\n",
      " 419\n",
      " 421\n",
      " 431\n",
      " 433\n",
      " 439\n",
      " 443\n",
      " 449\n",
      " 457\n",
      " 461\n",
      " 463\n",
      " 467\n",
      " 479\n",
      " 487\n",
      " 491\n",
      " 499\n",
      " 503\n",
      " 509\n",
      " 521\n",
      " 523\n",
      " 541\n",
      " 547\n",
      " 557\n",
      " 563\n",
      " 569\n",
      " 571\n",
      " 577\n",
      " 587\n",
      " 593\n",
      " 599\n",
      " 601\n",
      " 607\n",
      " 613\n",
      " 617\n",
      " 619\n",
      " 631\n",
      " 641\n",
      " 643\n",
      " 647\n",
      " 653\n",
      " 659\n",
      " 661\n",
      " 673\n",
      " 677\n",
      " 683\n",
      " 691\n",
      " 701\n",
      " 709\n",
      " 719\n",
      " 727\n",
      " 733\n",
      " 739\n",
      " 743\n",
      " 751\n",
      " 757\n",
      " 761\n",
      " 769\n",
      " 773\n",
      " 787\n",
      " 797\n",
      " 809\n",
      " 811\n",
      " 821\n",
      " 823\n",
      " 827\n",
      " 829\n",
      " 839\n",
      " 853\n",
      " 857\n",
      " 859\n",
      " 863\n",
      " 877\n",
      " 881\n",
      " 883\n",
      " 887\n",
      " 907\n",
      " 911\n",
      " 919\n",
      " 929\n",
      " 937\n",
      " 941\n",
      " 947\n",
      " 953\n",
      " 967\n",
      " 971\n",
      " 977\n",
      " 983\n",
      " 991\n",
      " 997\n"
     ]
    }
   ],
   "source": [
    "for num in range (1, 1001):\n",
    "    count = 0\n",
    "    for i in range(2, (num//2 + 1)):\n",
    "        if(num % i == 0):\n",
    "            count = count + 1\n",
    "            break\n",
    "\n",
    "    if (count == 0 and num != 1):\n",
    "        print(\" %d\" %num, end = '\\n')"
   ]
  },
  {
   "cell_type": "code",
   "execution_count": 47,
   "metadata": {},
   "outputs": [
    {
     "name": "stdout",
     "output_type": "stream",
     "text": [
      "1 x 1 = 1\n",
      "1 x 2 = 2\n",
      "1 x 3 = 3\n",
      "1 x 4 = 4\n",
      "1 x 5 = 5\n",
      "1 x 6 = 6\n",
      "1 x 7 = 7\n",
      "1 x 8 = 8\n",
      "1 x 9 = 9\n",
      "1 x 10 = 10\n",
      "2 x 1 = 2\n",
      "2 x 2 = 4\n",
      "2 x 3 = 6\n",
      "2 x 4 = 8\n",
      "2 x 5 = 10\n",
      "2 x 6 = 12\n",
      "2 x 7 = 14\n",
      "2 x 8 = 16\n",
      "2 x 9 = 18\n",
      "2 x 10 = 20\n",
      "3 x 1 = 3\n",
      "3 x 2 = 6\n",
      "3 x 3 = 9\n",
      "3 x 4 = 12\n",
      "3 x 5 = 15\n",
      "3 x 6 = 18\n",
      "3 x 7 = 21\n",
      "3 x 8 = 24\n",
      "3 x 9 = 27\n",
      "3 x 10 = 30\n",
      "4 x 1 = 4\n",
      "4 x 2 = 8\n",
      "4 x 3 = 12\n",
      "4 x 4 = 16\n",
      "4 x 5 = 20\n",
      "4 x 6 = 24\n",
      "4 x 7 = 28\n",
      "4 x 8 = 32\n",
      "4 x 9 = 36\n",
      "4 x 10 = 40\n",
      "5 x 1 = 5\n",
      "5 x 2 = 10\n",
      "5 x 3 = 15\n",
      "5 x 4 = 20\n",
      "5 x 5 = 25\n",
      "5 x 6 = 30\n",
      "5 x 7 = 35\n",
      "5 x 8 = 40\n",
      "5 x 9 = 45\n",
      "5 x 10 = 50\n",
      "6 x 1 = 6\n",
      "6 x 2 = 12\n",
      "6 x 3 = 18\n",
      "6 x 4 = 24\n",
      "6 x 5 = 30\n",
      "6 x 6 = 36\n",
      "6 x 7 = 42\n",
      "6 x 8 = 48\n",
      "6 x 9 = 54\n",
      "6 x 10 = 60\n",
      "7 x 1 = 7\n",
      "7 x 2 = 14\n",
      "7 x 3 = 21\n",
      "7 x 4 = 28\n",
      "7 x 5 = 35\n",
      "7 x 6 = 42\n",
      "7 x 7 = 49\n",
      "7 x 8 = 56\n",
      "7 x 9 = 63\n",
      "7 x 10 = 70\n",
      "8 x 1 = 8\n",
      "8 x 2 = 16\n",
      "8 x 3 = 24\n",
      "8 x 4 = 32\n",
      "8 x 5 = 40\n",
      "8 x 6 = 48\n",
      "8 x 7 = 56\n",
      "8 x 8 = 64\n",
      "8 x 9 = 72\n",
      "8 x 10 = 80\n",
      "9 x 1 = 9\n",
      "9 x 2 = 18\n",
      "9 x 3 = 27\n",
      "9 x 4 = 36\n",
      "9 x 5 = 45\n",
      "9 x 6 = 54\n",
      "9 x 7 = 63\n",
      "9 x 8 = 72\n",
      "9 x 9 = 81\n",
      "9 x 10 = 90\n",
      "10 x 1 = 10\n",
      "10 x 2 = 20\n",
      "10 x 3 = 30\n",
      "10 x 4 = 40\n",
      "10 x 5 = 50\n",
      "10 x 6 = 60\n",
      "10 x 7 = 70\n",
      "10 x 8 = 80\n",
      "10 x 9 = 90\n",
      "10 x 10 = 100\n"
     ]
    }
   ],
   "source": [
    "# Question 3\n",
    "for i in range(1,11):\n",
    "    for j in range(1,11):\n",
    "        print(i,'x',j,'=',i*j)"
   ]
  },
  {
   "cell_type": "code",
   "execution_count": 68,
   "metadata": {},
   "outputs": [
    {
     "name": "stdout",
     "output_type": "stream",
     "text": [
      "Enter a number : 9\n",
      " 11\n",
      " 13\n",
      " 17\n"
     ]
    }
   ],
   "source": [
    "j = 1\n",
    "n = int(input('Enter a number : '))\n",
    "while j!=n:\n",
    "    j=i+1\n",
    "    num = num+1\n",
    "    count = 0\n",
    "    for i in range(2, (num//2 + 1)):\n",
    "        if(num % i == 0):\n",
    "            count = count + 1\n",
    "            break\n",
    "\n",
    "    if (count == 0 and num != 1):\n",
    "        print(\" %d\" %num, end = '\\n')"
   ]
  },
  {
   "cell_type": "markdown",
   "metadata": {},
   "source": [
    "# DAY 5 ASSIGNMENT\n",
    "> 1. Write down a program in Python for Opening a File and Writing \" I Love LetsUpgrade\" And close\n",
    "     it, and read it back again, and then append some data to it and close it.\n",
    "\n",
    "> 2. Write a function which can return the factorial of any number as int,given in the arguement."
   ]
  },
  {
   "cell_type": "code",
   "execution_count": 59,
   "metadata": {},
   "outputs": [],
   "source": [
    "# Question 1\n",
    "assignment = open('Assignment.txt','w')\n",
    "assignment.write('I Love LetsUpgrade \\n')\n",
    "assignment.close()"
   ]
  },
  {
   "cell_type": "code",
   "execution_count": 64,
   "metadata": {},
   "outputs": [
    {
     "name": "stdout",
     "output_type": "stream",
     "text": [
      "I Love LetsUpgrade \n",
      "More than Upgrad \n"
     ]
    }
   ],
   "source": [
    "# Question 1\n",
    "assignment=open('Assignment.txt',\"r\")\n",
    "print(assignment.read())\n",
    "assignment.close()"
   ]
  },
  {
   "cell_type": "code",
   "execution_count": 62,
   "metadata": {},
   "outputs": [],
   "source": [
    "# Question 1\n",
    "assignment=open('Assignment.txt',\"a\")\n",
    "assignment.write('More than Upgrad ')\n",
    "assignment.close()"
   ]
  },
  {
   "cell_type": "code",
   "execution_count": 25,
   "metadata": {},
   "outputs": [],
   "source": [
    "# Question 2\n",
    "def factorial(n):\n",
    "    if n<0:\n",
    "        print('Factorial is undefined for  negative integers')\n",
    "    elif n==0:\n",
    "        print(1)\n",
    "    else:\n",
    "        x=[n]\n",
    "        for i in range(1,n):\n",
    "            x.append(n-i)\n",
    "        result = 1\n",
    "        for item in x:\n",
    "            result = result * item\n",
    "        return(result)"
   ]
  },
  {
   "cell_type": "code",
   "execution_count": 27,
   "metadata": {},
   "outputs": [
    {
     "name": "stdout",
     "output_type": "stream",
     "text": [
      "720\n",
      "608281864034267560872252163321295376887552831379210240000000000\n"
     ]
    }
   ],
   "source": [
    "# Question 2\n",
    "print(factorial(6))\n",
    "print(factorial(49))"
   ]
  }
 ],
 "metadata": {
  "kernelspec": {
   "display_name": "Python 3",
   "language": "python",
   "name": "python3"
  },
  "language_info": {
   "codemirror_mode": {
    "name": "ipython",
    "version": 3
   },
   "file_extension": ".py",
   "mimetype": "text/x-python",
   "name": "python",
   "nbconvert_exporter": "python",
   "pygments_lexer": "ipython3",
   "version": "3.8.1"
  }
 },
 "nbformat": 4,
 "nbformat_minor": 4
}
